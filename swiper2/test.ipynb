{
 "cells": [
  {
   "cell_type": "code",
   "execution_count": 9,
   "metadata": {},
   "outputs": [],
   "source": [
    "from lattice_surgery import Patch, LatticeSurgerySchedule"
   ]
  },
  {
   "cell_type": "code",
   "execution_count": 10,
   "metadata": {},
   "outputs": [],
   "source": [
    "device = [[(r, c) for c in range(3)] for r in range(8)]"
   ]
  },
  {
   "cell_type": "code",
   "execution_count": 11,
   "metadata": {},
   "outputs": [],
   "source": [
    "schedule = LatticeSurgerySchedule()"
   ]
  },
  {
   "cell_type": "code",
   "execution_count": 12,
   "metadata": {},
   "outputs": [],
   "source": [
    "schedule.inject_T((0, 0))\n",
    "schedule.inject_T((0, 1))\n",
    "schedule.inject_T((0, 2))\n",
    "schedule.inject_T((0, 3))\n",
    "schedule.inject_T((2, 0))\n",
    "schedule.inject_T((2, 1))\n",
    "schedule.inject_T((2, 2))\n",
    "schedule.inject_T((2, 4))\n",
    "schedule.add_op([(0,0), (0,1), (0,2), (0,3), (2,0), (2,1), (2,2), (2,4)], [(1,0), (1,1), (1,2), (1,3), (1,4)], advance_time=True)\n",
    "\n",
    "schedule.inject_T((0, 4))\n",
    "schedule.inject_T((0, 5))\n",
    "schedule.inject_T((2, 3))\n",
    "schedule.inject_T((2, 5))\n",
    "schedule.add_op([(0,0), (0,1), (0,4), (0,5), (2,0), (2,1), (2,3), (2,5)], [(1,0), (1,1), (1,2), (1,3), (1,4), (1,5)], advance_time=True)\n",
    "\n",
    "schedule.inject_T((0, 6))\n",
    "schedule.inject_T((2, 6))\n",
    "schedule.add_op([(0,0), (0,2), (0,4), (0,6), (2,0), (2,2), (2,3), (2,6)], [(1,0), (1,1), (1,2), (1,3), (1,4), (1,5), (1,6)], advance_time=True)\n",
    "\n",
    "schedule.inject_T((2, 7))\n",
    "schedule.add_op([(0,0), (0,3), (0,5), (0,6), (2,1), (2,2), (2,3), (2,7)], [(1,0), (1,1), (1,2), (1,3), (1,4), (1,5), (1,6), (1,7)], advance_time=True)\n",
    "\n",
    "schedule.inject_T((0, 7))\n",
    "schedule.add_op([(0,0), (0,1), (0,2), (0,3), (0,4), (0,5), (0,6), (0,7)], [(1,0), (1,1), (1,2), (1,3), (1,4), (1,5), (1,6), (1,7)])"
   ]
  },
  {
   "cell_type": "code",
   "execution_count": 13,
   "metadata": {},
   "outputs": [
    {
     "data": {
      "text/plain": [
       "[[('INJECT_T', (0, 0)),\n",
       "  ('INJECT_T', (0, 1)),\n",
       "  ('INJECT_T', (0, 2)),\n",
       "  ('INJECT_T', (0, 3)),\n",
       "  ('INJECT_T', (2, 0)),\n",
       "  ('INJECT_T', (2, 1)),\n",
       "  ('INJECT_T', (2, 2)),\n",
       "  ('INJECT_T', (2, 4)),\n",
       "  ('MERGE',\n",
       "   [(0, 0),\n",
       "    (0, 1),\n",
       "    (0, 2),\n",
       "    (0, 3),\n",
       "    (2, 0),\n",
       "    (2, 1),\n",
       "    (2, 2),\n",
       "    (2, 4),\n",
       "    (1, 0),\n",
       "    (1, 1),\n",
       "    (1, 2),\n",
       "    (1, 3),\n",
       "    (1, 4)])],\n",
       " [('INJECT_T', (0, 4)),\n",
       "  ('INJECT_T', (0, 5)),\n",
       "  ('INJECT_T', (2, 3)),\n",
       "  ('INJECT_T', (2, 5)),\n",
       "  ('MERGE',\n",
       "   [(0, 0),\n",
       "    (0, 1),\n",
       "    (0, 4),\n",
       "    (0, 5),\n",
       "    (2, 0),\n",
       "    (2, 1),\n",
       "    (2, 3),\n",
       "    (2, 5),\n",
       "    (1, 0),\n",
       "    (1, 1),\n",
       "    (1, 2),\n",
       "    (1, 3),\n",
       "    (1, 4),\n",
       "    (1, 5)])],\n",
       " []]"
      ]
     },
     "execution_count": 13,
     "metadata": {},
     "output_type": "execute_result"
    }
   ],
   "source": [
    "schedule.layers"
   ]
  },
  {
   "cell_type": "code",
   "execution_count": null,
   "metadata": {},
   "outputs": [],
   "source": []
  }
 ],
 "metadata": {
  "kernelspec": {
   "display_name": "swiper-w6QT7_0d-py3.12",
   "language": "python",
   "name": "python3"
  },
  "language_info": {
   "codemirror_mode": {
    "name": "ipython",
    "version": 3
   },
   "file_extension": ".py",
   "mimetype": "text/x-python",
   "name": "python",
   "nbconvert_exporter": "python",
   "pygments_lexer": "ipython3",
   "version": "3.12.4"
  }
 },
 "nbformat": 4,
 "nbformat_minor": 2
}
