{
 "cells": [
  {
   "cell_type": "code",
   "execution_count": 1,
   "metadata": {},
   "outputs": [],
   "source": [
    "from swiper2.schedule_experiments import RegularTSchedule\n",
    "from swiper2.device_manager import DeviceManager\n",
    "from swiper2.window_builder import WindowBuilder\n",
    "from swiper2.window_manager import SlidingWindowManager"
   ]
  },
  {
   "cell_type": "code",
   "execution_count": 2,
   "metadata": {},
   "outputs": [],
   "source": [
    "d=15\n",
    "test_experiment = RegularTSchedule(10, 5)\n",
    "manager = DeviceManager(d, test_experiment.schedule)"
   ]
  },
  {
   "cell_type": "code",
   "execution_count": 3,
   "metadata": {},
   "outputs": [],
   "source": [
    "sliding_manager = SlidingWindowManager(WindowBuilder(d))"
   ]
  },
  {
   "cell_type": "code",
   "execution_count": 5,
   "metadata": {},
   "outputs": [
    {
     "ename": "NotImplementedError",
     "evalue": "",
     "output_type": "error",
     "traceback": [
      "\u001b[0;31m---------------------------------------------------------------------------\u001b[0m",
      "\u001b[0;31mNotImplementedError\u001b[0m                       Traceback (most recent call last)",
      "Cell \u001b[0;32mIn[5], line 3\u001b[0m\n\u001b[1;32m      1\u001b[0m \u001b[38;5;28;01mfor\u001b[39;00m i \u001b[38;5;129;01min\u001b[39;00m \u001b[38;5;28mrange\u001b[39m(\u001b[38;5;241m30\u001b[39m):\n\u001b[1;32m      2\u001b[0m     new_round \u001b[38;5;241m=\u001b[39m manager\u001b[38;5;241m.\u001b[39mget_next_round([])\n\u001b[0;32m----> 3\u001b[0m     new_windows \u001b[38;5;241m=\u001b[39m \u001b[43msliding_manager\u001b[49m\u001b[38;5;241;43m.\u001b[39;49m\u001b[43mprocess_round\u001b[49m\u001b[43m(\u001b[49m\u001b[43mnew_round\u001b[49m\u001b[43m)\u001b[49m\n",
      "File \u001b[0;32m~/Documents/Work/Research/ProjectRepos/swiper/swiper2/window_manager.py:29\u001b[0m, in \u001b[0;36mSlidingWindowManager.process_round\u001b[0;34m(self, new_rounds)\u001b[0m\n\u001b[1;32m     26\u001b[0m \u001b[38;5;28;01mif\u001b[39;00m \u001b[38;5;28mlen\u001b[39m(new_commits) \u001b[38;5;241m==\u001b[39m \u001b[38;5;241m0\u001b[39m:\n\u001b[1;32m     27\u001b[0m     \u001b[38;5;66;03m# No new windows\u001b[39;00m\n\u001b[1;32m     28\u001b[0m     \u001b[38;5;28;01mreturn\u001b[39;00m\n\u001b[0;32m---> 29\u001b[0m \u001b[38;5;28;01mraise\u001b[39;00m \u001b[38;5;167;01mNotImplementedError\u001b[39;00m\n",
      "\u001b[0;31mNotImplementedError\u001b[0m: "
     ]
    }
   ],
   "source": [
    "for i in range(30):\n",
    "    new_round = manager.get_next_round([])\n",
    "    new_windows = sliding_manager.process_round(new_round)"
   ]
  }
 ],
 "metadata": {
  "kernelspec": {
   "display_name": ".venv",
   "language": "python",
   "name": "python3"
  },
  "language_info": {
   "codemirror_mode": {
    "name": "ipython",
    "version": 3
   },
   "file_extension": ".py",
   "mimetype": "text/x-python",
   "name": "python",
   "nbconvert_exporter": "python",
   "pygments_lexer": "ipython3",
   "version": "3.12.4"
  }
 },
 "nbformat": 4,
 "nbformat_minor": 2
}
