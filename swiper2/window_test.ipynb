{
 "cells": [
  {
   "cell_type": "code",
   "execution_count": 1,
   "metadata": {},
   "outputs": [],
   "source": [
    "from swiper2.schedule_experiments import RegularTSchedule\n",
    "from swiper2.device_manager import DeviceManager\n",
    "from swiper2.window_builder import SlidingWindowBuilder"
   ]
  },
  {
   "cell_type": "code",
   "execution_count": 2,
   "metadata": {},
   "outputs": [],
   "source": [
    "d=15\n",
    "test_experiment = RegularTSchedule(10, 5)\n",
    "manager = DeviceManager(d, test_experiment.schedule)"
   ]
  },
  {
   "cell_type": "code",
   "execution_count": 3,
   "metadata": {},
   "outputs": [],
   "source": [
    "sliding_builder = SlidingWindowBuilder(d)"
   ]
  },
  {
   "cell_type": "code",
   "execution_count": 4,
   "metadata": {},
   "outputs": [
    {
     "ename": "TypeError",
     "evalue": "unsupported operand type(s) for -: 'SyndromeRound' and 'SyndromeRound'",
     "output_type": "error",
     "traceback": [
      "\u001b[0;31m---------------------------------------------------------------------------\u001b[0m",
      "\u001b[0;31mTypeError\u001b[0m                                 Traceback (most recent call last)",
      "Cell \u001b[0;32mIn[4], line 3\u001b[0m\n\u001b[1;32m      1\u001b[0m \u001b[38;5;28;01mfor\u001b[39;00m i \u001b[38;5;129;01min\u001b[39;00m \u001b[38;5;28mrange\u001b[39m(\u001b[38;5;241m10\u001b[39m):\n\u001b[1;32m      2\u001b[0m     new_round \u001b[38;5;241m=\u001b[39m manager\u001b[38;5;241m.\u001b[39mget_next_round([])\n\u001b[0;32m----> 3\u001b[0m     new_windows \u001b[38;5;241m=\u001b[39m \u001b[43msliding_builder\u001b[49m\u001b[38;5;241;43m.\u001b[39;49m\u001b[43mbuild_windows\u001b[49m\u001b[43m(\u001b[49m\u001b[43mnew_round\u001b[49m\u001b[43m)\u001b[49m\n",
      "File \u001b[0;32m~/Documents/Work/Research/ProjectRepos/swiper/swiper2/window_builder.py:77\u001b[0m, in \u001b[0;36mSlidingWindowBuilder.build_windows\u001b[0;34m(self, new_rounds)\u001b[0m\n\u001b[1;32m     75\u001b[0m min_round \u001b[38;5;241m=\u001b[39m \u001b[38;5;28mmin\u001b[39m(\u001b[38;5;28mself\u001b[39m\u001b[38;5;241m.\u001b[39m_waiting_rounds, key\u001b[38;5;241m=\u001b[39m\u001b[38;5;28;01mlambda\u001b[39;00m x: x\u001b[38;5;241m.\u001b[39mround)\n\u001b[1;32m     76\u001b[0m max_round \u001b[38;5;241m=\u001b[39m \u001b[38;5;28mmax\u001b[39m(\u001b[38;5;28mself\u001b[39m\u001b[38;5;241m.\u001b[39m_waiting_rounds, key\u001b[38;5;241m=\u001b[39m\u001b[38;5;28;01mlambda\u001b[39;00m x: x\u001b[38;5;241m.\u001b[39mround)\n\u001b[0;32m---> 77\u001b[0m \u001b[38;5;28;01mif\u001b[39;00m \u001b[43mmax_round\u001b[49m\u001b[43m \u001b[49m\u001b[38;5;241;43m-\u001b[39;49m\u001b[43m \u001b[49m\u001b[43mmin_round\u001b[49m \u001b[38;5;241m<\u001b[39m \u001b[38;5;28mself\u001b[39m\u001b[38;5;241m.\u001b[39md:\n\u001b[1;32m     78\u001b[0m     \u001b[38;5;66;03m# Not enough rounds to create a window\u001b[39;00m\n\u001b[1;32m     79\u001b[0m     \u001b[38;5;28;01mreturn\u001b[39;00m []\n\u001b[1;32m     80\u001b[0m new_windows \u001b[38;5;241m=\u001b[39m []\n",
      "\u001b[0;31mTypeError\u001b[0m: unsupported operand type(s) for -: 'SyndromeRound' and 'SyndromeRound'"
     ]
    }
   ],
   "source": [
    "for i in range(10):\n",
    "    new_round = manager.get_next_round([])\n",
    "    new_windows = sliding_builder.build_windows(new_round)"
   ]
  }
 ],
 "metadata": {
  "kernelspec": {
   "display_name": ".venv",
   "language": "python",
   "name": "python3"
  },
  "language_info": {
   "codemirror_mode": {
    "name": "ipython",
    "version": 3
   },
   "file_extension": ".py",
   "mimetype": "text/x-python",
   "name": "python",
   "nbconvert_exporter": "python",
   "pygments_lexer": "ipython3",
   "version": "3.12.4"
  }
 },
 "nbformat": 4,
 "nbformat_minor": 2
}
