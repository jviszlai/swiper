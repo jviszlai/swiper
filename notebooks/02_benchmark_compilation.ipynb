{
 "cells": [
  {
   "cell_type": "markdown",
   "metadata": {},
   "source": [
    "# Compiling lattice surgery schedules\n",
    "\n",
    "Requires configuring gridsynth and LatticeSurgerySimulator."
   ]
  },
  {
   "cell_type": "code",
   "execution_count": null,
   "metadata": {},
   "outputs": [],
   "source": [
    "import os\n",
    "try:\n",
    "    path_initialized\n",
    "except NameError:\n",
    "    path_initialized = True\n",
    "    os.chdir('..')\n",
    "\n",
    "from benchmarks.cirq_to_ls import cirq_to_ls\n",
    "from swiper.simulator import DecodingSimulator\n",
    "from swiper.lattice_surgery_schedule import LatticeSurgerySchedule\n",
    "import matplotlib.pyplot as plt\n",
    "import swiper.plot as plotter\n",
    "import subprocess\n",
    "from benchmarks.benchmark_circuits import QROM, CarlemanEncoding, ElectronicStructure, FermiHubbardEncoding, HeisenbergEncoding, ChemicalHamiltonianEncoding, RegularT, RandomT, Memory, MSD15To1, QASMBenchmark, Toffoli, RZ\n",
    "from pyLIQTR.clam.lattice_definitions import KagomeLattice, TriangularLattice\n",
    "import pickle as pkl"
   ]
  },
  {
   "cell_type": "code",
   "execution_count": null,
   "metadata": {},
   "outputs": [],
   "source": [
    "# Specify which benchmarks to generate\n",
    "benchmark_param_combos = [\n",
    "    # (Memory, (10000,)),\n",
    "    # (MSD15To1, ()),  \n",
    "    # (Toffoli, ()),\n",
    "    # (RegularT, (1000, 0)),\n",
    "    # (RandomT, (1000, 200, 0)),\n",
    "    # (RandomT, (10000, 200, 0)),\n",
    "    # (QROM, (None, 15, 15)),\n",
    "    # (CarlemanEncoding, (2, 4)),\n",
    "    # (ElectronicStructure, ()),\n",
    "    #(FermiHubbardEncoding, ((2,2),)),\n",
    "    #(FermiHubbardEncoding, ((4,4),)),\n",
    "    #(FermiHubbardEncoding, ((2,2,3), KagomeLattice, 'Kagome')),\n",
    "    (FermiHubbardEncoding, ((2,3,3), KagomeLattice, 'Kagome')),\n",
    "    # (HeisenbergEncoding, (3,)),\n",
    "    # (HeisenbergEncoding, (5,)),\n",
    "    # #(HeisenbergEncoding, (10,)),\n",
    "    # #(ChemicalHamiltonianEncoding, (112,)), # H2O\n",
    "    # (ChemicalHamiltonianEncoding, (140,)), # H2\n",
    "    #(ChemicalHamiltonianEncoding, (146,)),  # LiH\n",
    "]"
   ]
  },
  {
   "cell_type": "code",
   "execution_count": null,
   "metadata": {},
   "outputs": [],
   "source": [
    "# RandomT schedules\n",
    "for i in range(20):\n",
    "    b = RandomT(1000, 200, i)\n",
    "    schedule = b.get_schedule()\n",
    "    name = b.name()\n",
    "    savepath = f'benchmarks/cached_schedules/random_t/{name}.lss'\n",
    "    with open(savepath, 'w') as f:\n",
    "        f.write(str(schedule))"
   ]
  },
  {
   "cell_type": "code",
   "execution_count": null,
   "metadata": {},
   "outputs": [],
   "source": [
    "# Rz Schedules\n",
    "for prec in [1e-5, 1e-10, 1e-15, 1e-20]:\n",
    "    b = RZ(prec, 1)\n",
    "    schedule = b.get_schedule()\n",
    "    name = b.name()\n",
    "    savepath = f'benchmarks/cached_schedules/{name}.lss'\n",
    "    with open(savepath, 'w') as f:\n",
    "        f.write(str(schedule))\n",
    "for seq in [10, 100]:\n",
    "    b = RZ(1e-10, seq)\n",
    "    schedule = b.get_schedule()\n",
    "    name = b.name()\n",
    "    savepath = f'benchmarks/cached_schedules/{name}.lss'\n",
    "    with open(savepath, 'w') as f:\n",
    "        f.write(str(schedule))"
   ]
  },
  {
   "cell_type": "code",
   "execution_count": null,
   "metadata": {},
   "outputs": [],
   "source": [
    "for benchmark, params in benchmark_param_combos:\n",
    "    print(f'Generating benchmark {benchmark.__name__} with params {params}')\n",
    "    b = benchmark(*params)\n",
    "    schedule = b.get_schedule()\n",
    "    print(f'\\tInstruction count: {len(schedule)}')\n",
    "    name = b.name()\n",
    "    savepath = f'benchmarks/cached_schedules/{name}.lss'\n",
    "    print(f'\\tSaving to {savepath}...')\n",
    "    with open(savepath, 'w') as f:\n",
    "        f.write(str(schedule))\n",
    "    print(f'\\tFile size: {os.path.getsize(savepath) / 2**20: 0.2f} MB')"
   ]
  },
  {
   "cell_type": "code",
   "execution_count": null,
   "metadata": {},
   "outputs": [],
   "source": [
    "# MQT benchmarks (QPE and Shor)\n",
    "\n",
    "for file in os.listdir('benchmarks/data/qasm/'):\n",
    "    print(file, end='...')\n",
    "    b = QASMBenchmark(f'benchmarks/data/qasm/{file}')\n",
    "    schedule = b.get_schedule()\n",
    "    print(f'\\tInstruction count: {len(schedule)}')\n",
    "    name = b.name()\n",
    "    savepath = f'benchmarks/cached_schedules/{name}.lss'\n",
    "    print(f'\\tSaving to {savepath}...')\n",
    "    with open(savepath, 'w') as f:\n",
    "        f.write(str(schedule))\n",
    "    print(f'\\tFile size: {os.path.getsize(savepath) / 2**20: 0.2f} MB')"
   ]
  },
  {
   "cell_type": "code",
   "execution_count": null,
   "metadata": {},
   "outputs": [],
   "source": [
    "ls_schedule = LatticeSurgerySchedule.from_str(open('benchmarks/cached_schedules/toffoli.lss').read())"
   ]
  },
  {
   "cell_type": "code",
   "execution_count": null,
   "metadata": {},
   "outputs": [],
   "source": [
    "d=7\n",
    "decoding_time = 0\n",
    "speculation_time = 0\n",
    "speculation_accuracy = 1\n",
    "\n",
    "simulator = DecodingSimulator()"
   ]
  },
  {
   "cell_type": "code",
   "execution_count": null,
   "metadata": {},
   "outputs": [],
   "source": [
    "#%%prun\n",
    "success, sim_params, device_data, window_data, decoding_data = simulator.run(\n",
    "    schedule=ls_schedule,\n",
    "    distance=d,\n",
    "    decoding_latency_fn=lambda _: decoding_time,\n",
    "    speculation_mode='integrated',\n",
    "    scheduling_method='sliding',\n",
    "    max_parallel_processes=None,\n",
    "    progress_bar=True,\n",
    "    save_animation_frames=False\n",
    ")"
   ]
  },
  {
   "cell_type": "code",
   "execution_count": null,
   "metadata": {},
   "outputs": [],
   "source": [
    "plotter.plot_device_schedule_trace(device_data, hide_z_ticks=True)"
   ]
  },
  {
   "cell_type": "code",
   "execution_count": null,
   "metadata": {},
   "outputs": [],
   "source": []
  }
 ],
 "metadata": {
  "kernelspec": {
   "display_name": ".venv",
   "language": "python",
   "name": "python3"
  },
  "language_info": {
   "codemirror_mode": {
    "name": "ipython",
    "version": 3
   },
   "file_extension": ".py",
   "mimetype": "text/x-python",
   "name": "python",
   "nbconvert_exporter": "python",
   "pygments_lexer": "ipython3",
   "version": "3.11.11"
  }
 },
 "nbformat": 4,
 "nbformat_minor": 2
}
