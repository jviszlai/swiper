{
 "cells": [
  {
   "cell_type": "markdown",
   "metadata": {},
   "source": [
    "### Lattice Surgery Schedule"
   ]
  },
  {
   "cell_type": "code",
   "execution_count": 4,
   "metadata": {},
   "outputs": [],
   "source": [
    "import os\n",
    "try:\n",
    "    path_initialized\n",
    "except NameError:\n",
    "    path_initialized = True\n",
    "    os.chdir('..')\n",
    "\n",
    "from benchmarks.cirq_to_ls import cirq_to_ls\n",
    "from swiper.simulator import DecodingSimulator\n",
    "from swiper.lattice_surgery_schedule import LatticeSurgerySchedule\n",
    "import matplotlib.pyplot as plt\n",
    "import swiper.plot as plotter\n",
    "import subprocess\n",
    "from benchmarks.benchmark_circuits import QROM, CarlemanEncoding, ElectronicStructure, FermiHubbardEncoding, HeisenbergEncoding, ChemicalHamiltonianEncoding, RegularT, RandomT, Memory, MSD15To1, QASMBenchmark, Toffoli, RZ\n",
    "from pyLIQTR.clam.lattice_definitions import KagomeLattice, TriangularLattice\n",
    "import pickle as pkl"
   ]
  },
  {
   "cell_type": "code",
   "execution_count": 7,
   "metadata": {},
   "outputs": [],
   "source": [
    "benchmark_param_combos = [\n",
    "    # (Memory, (10000,)),\n",
    "    # (MSD15To1, ()),  \n",
    "    # (Toffoli, ()),\n",
    "    # (RegularT, (1000, 0)),\n",
    "    # (RandomT, (1000, 200, 0)),\n",
    "    # (RandomT, (10000, 200, 0)),\n",
    "    # (QROM, (None, 15, 15)),\n",
    "    # (CarlemanEncoding, (2, 4)),\n",
    "    # (ElectronicStructure, ()),\n",
    "    #(FermiHubbardEncoding, ((2,2),)),\n",
    "    #(FermiHubbardEncoding, ((4,4),)),\n",
    "    #(FermiHubbardEncoding, ((2,2,3), KagomeLattice, 'Kagome')),\n",
    "    (FermiHubbardEncoding, ((2,3,3), KagomeLattice, 'Kagome')),\n",
    "    # (HeisenbergEncoding, (3,)),\n",
    "    # (HeisenbergEncoding, (5,)),\n",
    "    # #(HeisenbergEncoding, (10,)),\n",
    "    # #(ChemicalHamiltonianEncoding, (112,)), # H2O\n",
    "    # (ChemicalHamiltonianEncoding, (140,)), # H2\n",
    "    #(ChemicalHamiltonianEncoding, (146,)),  # LiH\n",
    "]"
   ]
  },
  {
   "cell_type": "code",
   "execution_count": 3,
   "metadata": {},
   "outputs": [],
   "source": [
    "# RandomT schedules\n",
    "for i in range(20):\n",
    "    b = RandomT(1000, 200, i)\n",
    "    schedule = b.get_schedule()\n",
    "    name = b.name()\n",
    "    savepath = f'benchmarks/cached_schedules/random_t/{name}.lss'\n",
    "    with open(savepath, 'w') as f:\n",
    "        f.write(str(schedule))"
   ]
  },
  {
   "cell_type": "code",
   "execution_count": 4,
   "metadata": {},
   "outputs": [
    {
     "name": "stdout",
     "output_type": "stream",
     "text": [
      "LS Instructions read  710\n",
      "Slices 358\n",
      "Made patch computation. Took 0.102456s.\n",
      "LS Instructions read  1406\n",
      "Slices 706\n",
      "Made patch computation. Took 0.203941s.\n",
      "LS Instructions read  2090\n",
      "Slices 1048\n",
      "Made patch computation. Took 0.330319s.\n",
      "LS Instructions read  2846\n",
      "Slices 1426\n",
      "Made patch computation. Took 0.409963s.\n",
      "LS Instructions read  14102\n",
      "Slices 7064\n",
      "Made patch computation. Took 2.08912s.\n",
      "LS Instructions read  140038\n",
      "Slices 70128\n",
      "Made patch computation. Took 20.0969s.\n"
     ]
    }
   ],
   "source": [
    "# Rz Schedules\n",
    "for prec in [1e-5, 1e-10, 1e-15, 1e-20]:\n",
    "    b = RZ(prec, 1)\n",
    "    schedule = b.get_schedule()\n",
    "    name = b.name()\n",
    "    savepath = f'benchmarks/cached_schedules/{name}.lss'\n",
    "    with open(savepath, 'w') as f:\n",
    "        f.write(str(schedule))\n",
    "for seq in [10, 100]:\n",
    "    b = RZ(1e-10, seq)\n",
    "    schedule = b.get_schedule()\n",
    "    name = b.name()\n",
    "    savepath = f'benchmarks/cached_schedules/{name}.lss'\n",
    "    with open(savepath, 'w') as f:\n",
    "        f.write(str(schedule))"
   ]
  },
  {
   "cell_type": "code",
   "execution_count": 8,
   "metadata": {},
   "outputs": [
    {
     "name": "stdout",
     "output_type": "stream",
     "text": [
      "Generating benchmark FermiHubbardEncoding with params ((2, 3, 3), <class 'pyLIQTR.clam.lattice_definitions.KagomeLattice'>, 'Kagome')\n",
      "LS Instructions read  399187\n",
      "Slices 139201\n",
      "Made patch computation. Took 357.349s.\n",
      "\tInstruction count: 389840\n",
      "\tSaving to benchmarks/cached_schedules/fermi_hubbard_2_3_Kagome.lss...\n",
      "\tFile size:  29.70 MB\n"
     ]
    }
   ],
   "source": [
    "for benchmark, params in benchmark_param_combos:\n",
    "    print(f'Generating benchmark {benchmark.__name__} with params {params}')\n",
    "    b = benchmark(*params)\n",
    "    schedule = b.get_schedule()\n",
    "    print(f'\\tInstruction count: {len(schedule)}')\n",
    "    name = b.name()\n",
    "    savepath = f'benchmarks/cached_schedules/{name}.lss'\n",
    "    print(f'\\tSaving to {savepath}...')\n",
    "    with open(savepath, 'w') as f:\n",
    "        f.write(str(schedule))\n",
    "    print(f'\\tFile size: {os.path.getsize(savepath) / 2**20: 0.2f} MB')"
   ]
  },
  {
   "cell_type": "code",
   "execution_count": 6,
   "metadata": {},
   "outputs": [
    {
     "name": "stdout",
     "output_type": "stream",
     "text": [
      "adder_n10.qasm...LS Instructions read  787\n",
      "Slices 211\n",
      "Made patch computation. Took 0.224346s.\n",
      "\tInstruction count: 887\n",
      "\tSaving to benchmarks/cached_schedules/adder_n10.lss...\n",
      "\tFile size:  0.06 MB\n",
      "adder_n4.qasm...LS Instructions read  132\n",
      "Slices 27\n",
      "Made patch computation. Took 0.0173442s.\n",
      "\tInstruction count: 136\n",
      "\tSaving to benchmarks/cached_schedules/adder_n4.lss...\n",
      "\tFile size:  0.01 MB\n",
      "LS Instructions read  34240nt: 1207\n",
      "Slices 11041\n",
      "Made patch computation. Took 7.62109s.\n",
      "\tInstruction count: 26601\n",
      "\tSaving to benchmarks/cached_schedules/qpeexact_5.lss...\n",
      "\tFile size:  1.95 MB\n",
      "adder_n18.qasm...LS Instructions read  1552\n",
      "Slices 316\n",
      "Made patch computation. Took 0.502436s.\n",
      "\tInstruction count: 2338\n",
      "\tSaving to benchmarks/cached_schedules/adder_n18.lss...\n",
      "\tFile size:  0.15 MB\n",
      "LS Instructions read  761816nt: 1\n",
      "Slices 77257\n",
      "Made patch computation. Took 151.416s.\n",
      "\tInstruction count: 675288\n",
      "\tSaving to benchmarks/cached_schedules/qpeexact_20.lss...\n",
      "\tFile size:  51.94 MB\n",
      "LS Instructions read  1398102\n",
      "Slices 87893\n",
      "Made patch computation. Took 257.782s.\n",
      "\tInstruction count: 1280420\n",
      "\tSaving to benchmarks/cached_schedules/qft_30.lss...\n",
      "\tFile size:  99.72 MB\n",
      "LS Instructions read  170682\n",
      "Slices 25390\n",
      "Made patch computation. Took 29.8895s.\n",
      "\tInstruction count: 139549\n",
      "\tSaving to benchmarks/cached_schedules/qft_10.lss...\n",
      "\tFile size:  10.51 MB\n",
      "LS Instructions read  1597998 count: 1\n",
      "Slices 544698\n",
      "Made patch computation. Took 400.562s.\n",
      "\tInstruction count: 1161293\n",
      "\tSaving to benchmarks/cached_schedules/grover_ancilla_9.lss...\n",
      "\tFile size:  92.93 MB\n",
      "adder_n28.qasm...LS Instructions read  2339\n",
      "Slices 407\n",
      "Made patch computation. Took 0.882648s.\n",
      "\tInstruction count: 3343\n",
      "\tSaving to benchmarks/cached_schedules/adder_n28.lss...\n",
      "\tFile size:  0.22 MB\n",
      "LS Instructions read  168494nt: 1\n",
      "Slices 27856\n",
      "Made patch computation. Took 31.245s.\n",
      "\tInstruction count: 139984\n",
      "\tSaving to benchmarks/cached_schedules/qpeexact_10.lss...\n",
      "\tFile size:  10.50 MB\n",
      "LS Instructions read  196249e count: 1\n",
      "Slices 67694\n",
      "Made patch computation. Took 44.2855s.\n",
      "\tInstruction count: 141975\n",
      "\tSaving to benchmarks/cached_schedules/grover_ancilla_5.lss...\n",
      "\tFile size:  10.91 MB\n",
      "LS Instructions read  696416\n",
      "Slices 56487\n",
      "Made patch computation. Took 117.176s.\n",
      "\tInstruction count: 613240\n",
      "\tSaving to benchmarks/cached_schedules/qft_20.lss...\n",
      "\tFile size:  47.17 MB\n"
     ]
    }
   ],
   "source": [
    "# MQT benchmarks (QPE and Shor)\n",
    "\n",
    "for file in os.listdir('benchmarks/data/qasm/'):\n",
    "    print(file, end='...')\n",
    "    b = QASMBenchmark(f'benchmarks/data/qasm/{file}')\n",
    "    schedule = b.get_schedule()\n",
    "    print(f'\\tInstruction count: {len(schedule)}')\n",
    "    name = b.name()\n",
    "    savepath = f'benchmarks/cached_schedules/{name}.lss'\n",
    "    print(f'\\tSaving to {savepath}...')\n",
    "    with open(savepath, 'w') as f:\n",
    "        f.write(str(schedule))\n",
    "    print(f'\\tFile size: {os.path.getsize(savepath) / 2**20: 0.2f} MB')"
   ]
  },
  {
   "cell_type": "code",
   "execution_count": 7,
   "metadata": {},
   "outputs": [],
   "source": [
    "ls_schedule = LatticeSurgerySchedule.from_str(open('benchmarks/cached_schedules/toffoli.lss').read())"
   ]
  },
  {
   "cell_type": "code",
   "execution_count": 8,
   "metadata": {},
   "outputs": [],
   "source": [
    "d=7\n",
    "decoding_time = 0\n",
    "speculation_time = 0\n",
    "speculation_accuracy = 1\n",
    "\n",
    "simulator = DecodingSimulator()"
   ]
  },
  {
   "cell_type": "code",
   "execution_count": 9,
   "metadata": {},
   "outputs": [
    {
     "name": "stderr",
     "output_type": "stream",
     "text": [
      "Surface code rounds: 228it [00:00, 8921.89it/s]\n"
     ]
    }
   ],
   "source": [
    "#%%prun\n",
    "success, sim_params, device_data, window_data, decoding_data = simulator.run(\n",
    "    schedule=ls_schedule,\n",
    "    distance=d,\n",
    "    decoding_latency_fn=lambda _: decoding_time,\n",
    "    speculation_mode='integrated',\n",
    "    scheduling_method='sliding',\n",
    "    max_parallel_processes=None,\n",
    "    progress_bar=True,\n",
    "    save_animation_frames=False\n",
    ")"
   ]
  },
  {
   "cell_type": "code",
   "execution_count": 10,
   "metadata": {},
   "outputs": [
    {
     "data": {
      "text/plain": [
       "<Axes3D: >"
      ]
     },
     "execution_count": 10,
     "metadata": {},
     "output_type": "execute_result"
    },
    {
     "data": {
      "image/png": "[encoded data removed]",
      "text/plain": [
       "<Figure size 640x480 with 1 Axes>"
      ]
     },
     "metadata": {},
     "output_type": "display_data"
    }
   ],
   "source": [
    "plotter.plot_device_schedule_trace(device_data, hide_z_ticks=True)"
   ]
  },
  {
   "cell_type": "code",
   "execution_count": null,
   "metadata": {},
   "outputs": [],
   "source": []
  }
 ],
 "metadata": {
  "kernelspec": {
   "display_name": "swiper-w6QT7_0d-py3.11",
   "language": "python",
   "name": "python3"
  },
  "language_info": {
   "codemirror_mode": {
    "name": "ipython",
    "version": 3
   },
   "file_extension": ".py",
   "mimetype": "text/x-python",
   "name": "python",
   "nbconvert_exporter": "python",
   "pygments_lexer": "ipython3",
   "version": "3.11.11"
  }
 },
 "nbformat": 4,
 "nbformat_minor": 2
}
