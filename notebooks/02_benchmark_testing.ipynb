{
 "cells": [
  {
   "cell_type": "markdown",
   "metadata": {},
   "source": [
    "### Lattice Surgery Schedule"
   ]
  },
  {
   "cell_type": "code",
   "execution_count": 1,
   "metadata": {},
   "outputs": [],
   "source": [
    "import os\n",
    "try:\n",
    "    path_initialized\n",
    "except NameError:\n",
    "    path_initialized = True\n",
    "    os.chdir('..')\n",
    "\n",
    "from benchmarks.cirq_to_ls import cirq_to_ls\n",
    "from swiper.simulator import DecodingSimulator\n",
    "from swiper.lattice_surgery_schedule import LatticeSurgerySchedule\n",
    "import matplotlib.pyplot as plt\n",
    "import swiper.plot as plotter\n",
    "import subprocess\n",
    "from benchmarks.benchmark_circuits import QROM, CarlemanEncoding, ElectronicStructure, FermiHubbardEncoding, HeisenbergEncoding, RegularT, Memory, MSD15To1\n",
    "import pickle as pkl"
   ]
  },
  {
   "cell_type": "code",
   "execution_count": 9,
   "metadata": {},
   "outputs": [],
   "source": [
    "benchmark_param_combos = [\n",
    "    (Memory, (10000,)),\n",
    "    (MSD15To1, ()),  \n",
    "    (RegularT, (1000, 0)),\n",
    "    (QROM, (None, 15, 15)),\n",
    "    (CarlemanEncoding, (2, 4)),\n",
    "    (ElectronicStructure, ()),\n",
    "    (FermiHubbardEncoding, ((2,2),)),\n",
    "    (FermiHubbardEncoding, ((4,4),)),\n",
    "    (HeisenbergEncoding, (5,)),\n",
    "    (HeisenbergEncoding, (10,)),\n",
    "]"
   ]
  },
  {
   "cell_type": "code",
   "execution_count": 10,
   "metadata": {},
   "outputs": [
    {
     "name": "stdout",
     "output_type": "stream",
     "text": [
      "Generating benchmark Memory with params (10000,)\n",
      "\tInstruction count: 2\n",
      "\tSaving to benchmarks/cached_schedules/memory_10000.lss...\n",
      "\tFile size:  0.00 MB\n",
      "Generating benchmark MSD15To1 with params ()\n",
      "\tInstruction count: 130\n",
      "\tSaving to benchmarks/cached_schedules/msd_15to1.lss...\n",
      "\tFile size:  0.01 MB\n",
      "Generating benchmark RegularT with params (1000, 0)\n",
      "\tInstruction count: 4001\n",
      "\tSaving to benchmarks/cached_schedules/regular_t_1000_0.lss...\n",
      "\tFile size:  0.19 MB\n",
      "Generating benchmark QROM with params (None, 15, 15)\n",
      "15 15\n",
      "LS Instructions read  816\n",
      "Slices 137\n",
      "Made patch computation. Took 0.39299s.\n",
      "\tInstruction count: 1185\n",
      "\tSaving to benchmarks/cached_schedules/qrom_15_15.lss...\n",
      "\tFile size:  0.06 MB\n",
      "Generating benchmark CarlemanEncoding with params (2, 4)\n",
      "LS Instructions read  7280\n",
      "Slices 933\n",
      "Made patch computation. Took 2.95632s.\n",
      "\tInstruction count: 10854\n",
      "\tSaving to benchmarks/cached_schedules/carleman_encoding_2_4.lss...\n",
      "\tFile size:  0.60 MB\n",
      "Generating benchmark ElectronicStructure with params ()\n",
      "LS Instructions read  101250\n",
      "Slices 15062\n",
      "Made patch computation. Took 359.957s.\n",
      "\tInstruction count: 467603\n",
      "\tSaving to benchmarks/cached_schedules/electronic_structure.lss...\n",
      "\tFile size:  29.34 MB\n",
      "Generating benchmark FermiHubbardEncoding with params ((2, 2),)\n",
      "LS Instructions read  3086\n",
      "Slices 642\n",
      "Made patch computation. Took 0.913228s.\n",
      "\tInstruction count: 2601\n",
      "\tSaving to benchmarks/cached_schedules/fermi_hubbard_2_2.lss...\n",
      "\tFile size:  0.13 MB\n",
      "Generating benchmark FermiHubbardEncoding with params ((4, 4),)\n",
      "LS Instructions read  24142\n",
      "Slices 4816\n",
      "Made patch computation. Took 12.2914s.\n",
      "\tInstruction count: 29819\n",
      "\tSaving to benchmarks/cached_schedules/fermi_hubbard_4_4.lss...\n",
      "\tFile size:  1.64 MB\n",
      "Generating benchmark HeisenbergEncoding with params (5,)\n",
      "LS Instructions read  24500\n",
      "Slices 5038\n",
      "Made patch computation. Took 12.5883s.\n",
      "\tInstruction count: 30937\n",
      "\tSaving to benchmarks/cached_schedules/heisenberg_5.lss...\n",
      "\tFile size:  1.70 MB\n",
      "Generating benchmark HeisenbergEncoding with params (10,)\n",
      "LS Instructions read  99946\n",
      "Slices 20283\n",
      "Made patch computation. Took 107.018s.\n",
      "\tInstruction count: 110493\n",
      "\tSaving to benchmarks/cached_schedules/heisenberg_10.lss...\n",
      "\tFile size:  6.25 MB\n"
     ]
    }
   ],
   "source": [
    "for benchmark, params in benchmark_param_combos:\n",
    "    print(f'Generating benchmark {benchmark.__name__} with params {params}')\n",
    "    b = benchmark(*params)\n",
    "    schedule = b.get_schedule()\n",
    "    print(f'\\tInstruction count: {len(schedule)}')\n",
    "    name = b.name()\n",
    "    savepath = f'benchmarks/cached_schedules/{name}.lss'\n",
    "    print(f'\\tSaving to {savepath}...')\n",
    "    with open(savepath, 'w') as f:\n",
    "        f.write(str(schedule))\n",
    "    print(f'\\tFile size: {os.path.getsize(savepath) / 2**20: 0.2f} MB')"
   ]
  },
  {
   "cell_type": "code",
   "execution_count": 11,
   "metadata": {},
   "outputs": [],
   "source": [
    "ls_schedule = LatticeSurgerySchedule.from_str(open('benchmarks/cached_schedules/fermi_hubbard_2_2.lss').read())"
   ]
  },
  {
   "cell_type": "code",
   "execution_count": 12,
   "metadata": {},
   "outputs": [],
   "source": [
    "d=7\n",
    "decoding_time = 0\n",
    "speculation_time = 0\n",
    "speculation_accuracy = 1\n",
    "\n",
    "simulator = DecodingSimulator(d, lambda _: decoding_time, speculation_time, speculation_accuracy, speculation_mode='integrated')"
   ]
  },
  {
   "cell_type": "code",
   "execution_count": null,
   "metadata": {},
   "outputs": [
    {
     "name": "stderr",
     "output_type": "stream",
     "text": [
      "Exception ignored in: <bound method IPythonKernel._clean_thread_parent_frames of <ipykernel.ipkernel.IPythonKernel object at 0x10337ec50>>\n",
      "Traceback (most recent call last):\n",
      "  File \"/Users/jviszlai/Documents/Work/Research/ProjectRepos/swiper/.venv/lib/python3.10/site-packages/ipykernel/ipkernel.py\", line 775, in _clean_thread_parent_frames\n",
      "    def _clean_thread_parent_frames(\n",
      "KeyboardInterrupt: \n",
      "Exception ignored in: <bound method IPythonKernel._clean_thread_parent_frames of <ipykernel.ipkernel.IPythonKernel object at 0x10337ec50>>\n",
      "Traceback (most recent call last):\n",
      "  File \"/Users/jviszlai/Documents/Work/Research/ProjectRepos/swiper/.venv/lib/python3.10/site-packages/ipykernel/ipkernel.py\", line 775, in _clean_thread_parent_frames\n",
      "    def _clean_thread_parent_frames(\n",
      "KeyboardInterrupt: \n"
     ]
    }
   ],
   "source": [
    "#%%prun\n",
    "success, device_data, window_data, decoding_data = simulator.run(\n",
    "    schedule=ls_schedule,\n",
    "    scheduling_method='sliding',\n",
    "    max_parallel_processes=None,\n",
    "    progress_bar=True,\n",
    "    save_animation_frames=False\n",
    ")"
   ]
  },
  {
   "cell_type": "code",
   "execution_count": 8,
   "metadata": {},
   "outputs": [
    {
     "data": {
      "text/plain": [
       "<Axes3D: >"
      ]
     },
     "execution_count": 8,
     "metadata": {},
     "output_type": "execute_result"
    },
    {
     "data": {
      "image/png": "[encoded data removed]",
      "text/plain": [
       "<Figure size 640x480 with 1 Axes>"
      ]
     },
     "metadata": {},
     "output_type": "display_data"
    }
   ],
   "source": [
    "plotter.plot_device_schedule_trace(device_data, hide_z_ticks=True, z_min=200, z_max=600)"
   ]
  },
  {
   "cell_type": "code",
   "execution_count": null,
   "metadata": {},
   "outputs": [],
   "source": []
  }
 ],
 "metadata": {
  "kernelspec": {
   "display_name": ".venv",
   "language": "python",
   "name": "python3"
  },
  "language_info": {
   "codemirror_mode": {
    "name": "ipython",
    "version": 3
   },
   "file_extension": ".py",
   "mimetype": "text/x-python",
   "name": "python",
   "nbconvert_exporter": "python",
   "pygments_lexer": "ipython3",
   "version": "3.10.15"
  }
 },
 "nbformat": 4,
 "nbformat_minor": 2
}
