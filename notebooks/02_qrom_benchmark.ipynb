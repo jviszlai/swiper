{
 "cells": [
  {
   "cell_type": "code",
   "execution_count": 1,
   "metadata": {},
   "outputs": [],
   "source": [
    "from benchmarks.qrom import QROM_30\n",
    "\n",
    "from swiper2.simulator import DecodingSimulator\n",
    "import swiper2.plot as plotter"
   ]
  },
  {
   "cell_type": "code",
   "execution_count": 2,
   "metadata": {},
   "outputs": [],
   "source": [
    "qrom30 = QROM_30()"
   ]
  },
  {
   "cell_type": "code",
   "execution_count": 3,
   "metadata": {},
   "outputs": [],
   "source": [
    "d=7\n",
    "decoding_time = 0\n",
    "speculation_time = 0\n",
    "speculation_accuracy = 1\n",
    "\n",
    "simulator = DecodingSimulator(d, lambda _: decoding_time, speculation_time, speculation_accuracy, speculation_mode='integrated')"
   ]
  },
  {
   "cell_type": "code",
   "execution_count": 5,
   "metadata": {},
   "outputs": [
    {
     "name": "stderr",
     "output_type": "stream",
     "text": [
      "Surface code rounds: 235it [00:00, 1743.02it/s]\n"
     ]
    }
   ],
   "source": [
    "success, device_data, window_data, decoding_data = simulator.run(\n",
    "    schedule=qrom30.schedule,\n",
    "    scheduling_method='sliding',\n",
    "    enforce_window_alignment=False,\n",
    "    max_parallel_processes=None,\n",
    "    progress_bar=True,\n",
    "    save_animation_frames=False\n",
    ")"
   ]
  },
  {
   "cell_type": "code",
   "execution_count": null,
   "metadata": {},
   "outputs": [],
   "source": [
    "plotter.plot_device_schedule_trace(device_data)"
   ]
  },
  {
   "cell_type": "code",
   "execution_count": null,
   "metadata": {},
   "outputs": [],
   "source": []
  }
 ],
 "metadata": {
  "kernelspec": {
   "display_name": ".venv",
   "language": "python",
   "name": "python3"
  },
  "language_info": {
   "codemirror_mode": {
    "name": "ipython",
    "version": 3
   },
   "file_extension": ".py",
   "mimetype": "text/x-python",
   "name": "python",
   "nbconvert_exporter": "python",
   "pygments_lexer": "ipython3",
   "version": "3.12.4"
  }
 },
 "nbformat": 4,
 "nbformat_minor": 2
}
