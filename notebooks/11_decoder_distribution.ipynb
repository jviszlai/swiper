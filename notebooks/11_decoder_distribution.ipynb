{
 "cells": [
  {
   "cell_type": "code",
   "execution_count": 1,
   "metadata": {},
   "outputs": [],
   "source": [
    "import stim\n",
    "import pymatching\n",
    "import numpy as np\n",
    "import datetime\n",
    "import pickle as pkl"
   ]
  },
  {
   "cell_type": "code",
   "execution_count": 2,
   "metadata": {},
   "outputs": [],
   "source": [
    "num_shots = 10_000\n",
    "d_range = [13, 15, 17, 19, 21, 23, 25, 27, 29, 31]\n",
    "decoding_dists = {d: {} for d in d_range}\n",
    "p = 1e-3\n",
    "\n",
    "for d in d_range:\n",
    "    for r in range(2, 8):\n",
    "        circ = stim.Circuit.generated(\"surface_code:rotated_memory_z\", \n",
    "                                distance=d, rounds=r*d,\n",
    "                                after_clifford_depolarization=p, \n",
    "                                before_measure_flip_probability=p,\n",
    "                                )\n",
    "        matching = pymatching.Matching.from_detector_error_model(circ.detector_error_model())\n",
    "        sampler = circ.compile_detector_sampler()\n",
    "        shots, actual_observables = sampler.sample(shots=num_shots, separate_observables=True)\n",
    "        # Decode one shot first to ensure internal C++ representation of the matching graph is fully cached\n",
    "        matching.decode_batch(shots[0:1, :])\n",
    "        decoding_dists[d][r] = np.zeros(num_shots)\n",
    "        # Now time decoding the batch\n",
    "        for i in range(num_shots):\n",
    "            shot = shots[i:i+1, :]\n",
    "            t0 = datetime.datetime.now()\n",
    "            matching.decode(shot)\n",
    "            t1 = (datetime.datetime.now() - t0).total_seconds() * 1e6 # us\n",
    "            decoding_dists[d][r][i] = t1\n",
    "        "
   ]
  },
  {
   "cell_type": "code",
   "execution_count": 3,
   "metadata": {},
   "outputs": [],
   "source": [
    "pkl.dump(decoding_dists, open('data/decoder_dists.pkl', 'wb'))"
   ]
  }
 ],
 "metadata": {
  "kernelspec": {
   "display_name": ".venv",
   "language": "python",
   "name": "python3"
  },
  "language_info": {
   "codemirror_mode": {
    "name": "ipython",
    "version": 3
   },
   "file_extension": ".py",
   "mimetype": "text/x-python",
   "name": "python",
   "nbconvert_exporter": "python",
   "pygments_lexer": "ipython3",
   "version": "3.11.11"
  }
 },
 "nbformat": 4,
 "nbformat_minor": 2
}
