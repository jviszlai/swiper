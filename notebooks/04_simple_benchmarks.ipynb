{
 "cells": [
  {
   "cell_type": "code",
   "execution_count": 2,
   "metadata": {},
   "outputs": [],
   "source": [
    "import os\n",
    "try:\n",
    "    path_initialized\n",
    "except NameError:\n",
    "    path_initialized = True\n",
    "    os.chdir('..')\n",
    "\n",
    "import pickle as pkl\n",
    "from swiper.schedule_experiments import MemorySchedule, RegularTSchedule, MSD15To1Schedule"
   ]
  },
  {
   "cell_type": "code",
   "execution_count": 4,
   "metadata": {},
   "outputs": [],
   "source": [
    "pkl.dump(MemorySchedule(1000).schedule, open('benchmarks/cached_schedules/memory_1000.pkl', 'wb'))\n",
    "pkl.dump(MemorySchedule(10000).schedule, open('benchmarks/cached_schedules/memory_10000.pkl', 'wb'))\n",
    "pkl.dump(RegularTSchedule(1000, 0).schedule, open('benchmarks/cached_schedules/regularT_1000.pkl', 'wb'))\n",
    "pkl.dump(MSD15To1Schedule().schedule, open('benchmarks/cached_schedules/msd15to1.pkl', 'wb'))"
   ]
  },
  {
   "cell_type": "code",
   "execution_count": null,
   "metadata": {},
   "outputs": [],
   "source": []
  }
 ],
 "metadata": {
  "kernelspec": {
   "display_name": "swiper-w6QT7_0d-py3.11",
   "language": "python",
   "name": "python3"
  },
  "language_info": {
   "codemirror_mode": {
    "name": "ipython",
    "version": 3
   },
   "file_extension": ".py",
   "mimetype": "text/x-python",
   "name": "python",
   "nbconvert_exporter": "python",
   "pygments_lexer": "ipython3",
   "version": "3.11.7"
  }
 },
 "nbformat": 4,
 "nbformat_minor": 2
}
