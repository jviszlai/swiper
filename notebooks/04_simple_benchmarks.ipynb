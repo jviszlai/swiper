{
 "cells": [
  {
   "cell_type": "code",
   "execution_count": 1,
   "metadata": {},
   "outputs": [],
   "source": [
    "import os\n",
    "try:\n",
    "    path_initialized\n",
    "except NameError:\n",
    "    path_initialized = True\n",
    "    os.chdir('..')\n",
    "\n",
    "import pickle as pkl\n",
    "from swiper.lattice_surgery_schedule import LatticeSurgerySchedule, Duration\n",
    "from swiper.schedule_experiments import MemorySchedule, RegularTSchedule, MSD15To1Schedule"
   ]
  },
  {
   "cell_type": "code",
   "execution_count": 2,
   "metadata": {},
   "outputs": [],
   "source": [
    "with open('benchmarks/cached_schedules/memory_1000.lss', 'w') as f:\n",
    "    f.write(str(MemorySchedule(1000).schedule))\n",
    "with open('benchmarks/cached_schedules/memory_10000.lss', 'w') as f:\n",
    "    f.write(str(MemorySchedule(10000).schedule))\n",
    "with open('benchmarks/cached_schedules/regularT_1000.lss', 'w') as f:\n",
    "    f.write(str(RegularTSchedule(1000, 0).schedule))\n",
    "with open('benchmarks/cached_schedules/msd15to1.lss', 'w') as f:\n",
    "    f.write(str(MSD15To1Schedule().schedule))"
   ]
  },
  {
   "cell_type": "code",
   "execution_count": 4,
   "metadata": {},
   "outputs": [],
   "source": [
    "with open('benchmarks/cached_schedules/carleman_encoding.pkl', 'rb') as f:\n",
    "    carleman_encoding = pkl.load(f)\n",
    "with open('benchmarks/cached_schedules/carleman_encoding.lss', 'w') as f:\n",
    "    f.write(str(carleman_encoding))\n",
    "\n",
    "with open('benchmarks/cached_schedules/electronic_structure.pkl', 'rb') as f:\n",
    "    electronic_structure = pkl.load(f)\n",
    "with open('benchmarks/cached_schedules/electronic_structure.lss', 'w') as f:\n",
    "    f.write(str(electronic_structure))\n",
    "\n",
    "with open('benchmarks/cached_schedules/qrom_15.pkl', 'rb') as f:\n",
    "    qrom_15 = pkl.load(f)\n",
    "with open('benchmarks/cached_schedules/qrom_15.lss', 'w') as f:\n",
    "    f.write(str(qrom_15))"
   ]
  },
  {
   "cell_type": "code",
   "execution_count": null,
   "metadata": {},
   "outputs": [],
   "source": []
  }
 ],
 "metadata": {
  "kernelspec": {
   "display_name": "swiper-w6QT7_0d-py3.11",
   "language": "python",
   "name": "python3"
  },
  "language_info": {
   "codemirror_mode": {
    "name": "ipython",
    "version": 3
   },
   "file_extension": ".py",
   "mimetype": "text/x-python",
   "name": "python",
   "nbconvert_exporter": "python",
   "pygments_lexer": "ipython3",
   "version": "3.11.11"
  }
 },
 "nbformat": 4,
 "nbformat_minor": 2
}
